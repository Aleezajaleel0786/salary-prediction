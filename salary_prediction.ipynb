{
 "cells": [
  {
   "cell_type": "code",
   "execution_count": 1,
   "id": "956ec4fe",
   "metadata": {},
   "outputs": [],
   "source": [
    "import pandas as pd\n",
    "import numpy as np\n",
    "import pickle\n",
    "from sklearn.model_selection import train_test_split\n",
    "from sklearn.preprocessing import StandardScaler\n",
    "from tensorflow.keras.models import Sequential\n",
    "from tensorflow.keras.layers import Dense"
   ]
  },
  {
   "cell_type": "code",
   "execution_count": 2,
   "id": "3dfe7e79",
   "metadata": {},
   "outputs": [],
   "source": [
    "# Load dataset\n",
    "df = pd.read_csv(\"Churn_Modelling - Churn_Modelling.csv\")  # Replace with your actual dataset file name\n",
    "# Drop unnecessary columns\n",
    "df.drop(['RowNumber', 'Surname'], axis=1, inplace=True)\n",
    "# One-hot encode categorical\n",
    "df = pd.get_dummies(df, drop_first=True)\n",
    "# Save column names\n",
    "with open('columns.pkl', 'wb') as f:\n",
    "    pickle.dump(df.columns.tolist(), f)"
   ]
  },
  {
   "cell_type": "code",
   "execution_count": 3,
   "id": "202427e3",
   "metadata": {},
   "outputs": [
    {
     "name": "stdout",
     "output_type": "stream",
     "text": [
      "['CustomerId', 'CreditScore', 'Age', 'Tenure', 'Balance', 'NumOfProducts', 'HasCrCard', 'IsActiveMember', 'EstimatedSalary', 'Exited', 'Geography_Germany', 'Geography_Spain', 'Gender_Male']\n"
     ]
    }
   ],
   "source": [
    "print(df.columns.tolist())"
   ]
  },
  {
   "cell_type": "code",
   "execution_count": 4,
   "id": "20f7327b",
   "metadata": {},
   "outputs": [
    {
     "name": "stdout",
     "output_type": "stream",
     "text": [
      "['CustomerId', 'CreditScore', 'Age', 'Tenure', 'Balance', 'NumOfProducts', 'HasCrCard', 'IsActiveMember', 'EstimatedSalary', 'Exited', 'Geography_Germany', 'Geography_Spain', 'Gender_Male']\n"
     ]
    }
   ],
   "source": [
    "print(df.columns.tolist())"
   ]
  },
  {
   "cell_type": "code",
   "execution_count": 5,
   "id": "bf4e758e",
   "metadata": {},
   "outputs": [],
   "source": [
    "#  Separate features and target\n",
    "X = df.drop(\"Balance\", axis=1)\n",
    "y = df[\"Balance\"]"
   ]
  },
  {
   "cell_type": "code",
   "execution_count": 6,
   "id": "455d4535",
   "metadata": {},
   "outputs": [],
   "source": [
    "#  Save feature names for prediction use\n",
    "with open(\"feature_names.pkl\", \"wb\") as f:\n",
    "    pickle.dump(X.columns.tolist(), f)\n"
   ]
  },
  {
   "cell_type": "code",
   "execution_count": 7,
   "id": "ff455f5b",
   "metadata": {},
   "outputs": [
    {
     "name": "stdout",
     "output_type": "stream",
     "text": [
      "CustomerId           0\n",
      "CreditScore          0\n",
      "Age                  0\n",
      "Tenure               0\n",
      "Balance              0\n",
      "NumOfProducts        0\n",
      "HasCrCard            0\n",
      "IsActiveMember       0\n",
      "EstimatedSalary      0\n",
      "Exited               0\n",
      "Geography_Germany    0\n",
      "Geography_Spain      0\n",
      "Gender_Male          0\n",
      "dtype: int64\n"
     ]
    }
   ],
   "source": [
    "print(df.isnull().sum())"
   ]
  },
  {
   "cell_type": "code",
   "execution_count": 8,
   "id": "e102449f",
   "metadata": {},
   "outputs": [],
   "source": [
    "# Feature scaling\n",
    "\n",
    "X = df.drop(\"Balance\", axis=1)\n",
    "y = df[\"Balance\"]\n",
    "\n",
    "# Encode categorical variables if any\n",
    "X = pd.get_dummies(X, drop_first=True)\n",
    "\n",
    "# Handle missing values if any\n",
    "X = X.fillna(X.mean())  # Filling missing values with the mean of the column\n",
    "\n",
    "\n",
    "scaler = StandardScaler()\n",
    "X_scaled = scaler.fit_transform(X)\n"
   ]
  },
  {
   "cell_type": "code",
   "execution_count": 9,
   "metadata": {},
   "outputs": [],
   "source": [
    "# Save the scaler\n",
    "with open(\"scaler.pkl\", \"wb\") as f:\n",
    "    pickle.dump(scaler, f)"
   ]
  },
  {
   "cell_type": "code",
   "execution_count": 10,
   "id": "3f03f80f",
   "metadata": {},
   "outputs": [],
   "source": [
    "# Train-test split\n",
    "X_train, X_test, y_train, y_test = train_test_split(X_scaled, y, test_size=0.2, random_state=42)\n"
   ]
  },
  {
   "cell_type": "code",
   "execution_count": 11,
   "id": "73c26fee",
   "metadata": {},
   "outputs": [
    {
     "name": "stdout",
     "output_type": "stream",
     "text": [
      "Epoch 1/100\n",
      "250/250 [==============================] - 5s 12ms/step - loss: 9688845312.0000\n",
      "Epoch 2/100\n",
      "250/250 [==============================] - 1s 4ms/step - loss: 9628357632.0000\n",
      "Epoch 3/100\n",
      "250/250 [==============================] - 1s 3ms/step - loss: 9395167232.0000\n",
      "Epoch 4/100\n",
      "250/250 [==============================] - 1s 3ms/step - loss: 8911066112.0000\n",
      "Epoch 5/100\n",
      "250/250 [==============================] - 1s 3ms/step - loss: 8167405056.0000\n",
      "Epoch 6/100\n",
      "250/250 [==============================] - 1s 3ms/step - loss: 7234251776.0000\n",
      "Epoch 7/100\n",
      "250/250 [==============================] - 1s 5ms/step - loss: 6219641856.0000\n",
      "Epoch 8/100\n",
      "250/250 [==============================] - 1s 3ms/step - loss: 5258275328.0000\n",
      "Epoch 9/100\n",
      "250/250 [==============================] - 1s 3ms/step - loss: 4489324544.0000\n",
      "Epoch 10/100\n",
      "250/250 [==============================] - 1s 3ms/step - loss: 3950941952.0000\n",
      "Epoch 11/100\n",
      "250/250 [==============================] - 1s 3ms/step - loss: 3605374720.0000\n",
      "Epoch 12/100\n",
      "250/250 [==============================] - 1s 3ms/step - loss: 3384893440.0000\n",
      "Epoch 13/100\n",
      "250/250 [==============================] - 1s 3ms/step - loss: 3238225664.0000\n",
      "Epoch 14/100\n",
      "250/250 [==============================] - 1s 3ms/step - loss: 3132476416.0000\n",
      "Epoch 15/100\n",
      "250/250 [==============================] - 1s 4ms/step - loss: 3053152000.0000\n",
      "Epoch 16/100\n",
      "250/250 [==============================] - 1s 3ms/step - loss: 2993006080.0000\n",
      "Epoch 17/100\n",
      "250/250 [==============================] - 1s 3ms/step - loss: 2947163904.0000\n",
      "Epoch 18/100\n",
      "250/250 [==============================] - 1s 5ms/step - loss: 2911990272.0000\n",
      "Epoch 19/100\n",
      "250/250 [==============================] - 2s 6ms/step - loss: 2884610816.0000\n",
      "Epoch 20/100\n",
      "250/250 [==============================] - 1s 6ms/step - loss: 2862502400.0000\n",
      "Epoch 21/100\n",
      "250/250 [==============================] - 1s 5ms/step - loss: 2844465152.0000\n",
      "Epoch 22/100\n",
      "250/250 [==============================] - 1s 6ms/step - loss: 2829383168.0000\n",
      "Epoch 23/100\n",
      "250/250 [==============================] - 2s 7ms/step - loss: 2816153600.0000\n",
      "Epoch 24/100\n",
      "250/250 [==============================] - 1s 6ms/step - loss: 2804367104.0000\n",
      "Epoch 25/100\n",
      "250/250 [==============================] - 1s 6ms/step - loss: 2794181888.0000\n",
      "Epoch 26/100\n",
      "250/250 [==============================] - 2s 8ms/step - loss: 2784363264.0000\n",
      "Epoch 27/100\n",
      "250/250 [==============================] - 1s 5ms/step - loss: 2775480832.0000\n",
      "Epoch 28/100\n",
      "250/250 [==============================] - 1s 5ms/step - loss: 2767260416.0000\n",
      "Epoch 29/100\n",
      "250/250 [==============================] - 1s 6ms/step - loss: 2759180800.0000\n",
      "Epoch 30/100\n",
      "250/250 [==============================] - 1s 6ms/step - loss: 2751583488.0000\n",
      "Epoch 31/100\n",
      "250/250 [==============================] - 1s 3ms/step - loss: 2744070912.0000\n",
      "Epoch 32/100\n",
      "250/250 [==============================] - 1s 4ms/step - loss: 2736932608.0000\n",
      "Epoch 33/100\n",
      "250/250 [==============================] - 1s 5ms/step - loss: 2729817088.0000\n",
      "Epoch 34/100\n",
      "250/250 [==============================] - 1s 5ms/step - loss: 2723083776.0000\n",
      "Epoch 35/100\n",
      "250/250 [==============================] - 1s 5ms/step - loss: 2716615168.0000\n",
      "Epoch 36/100\n",
      "250/250 [==============================] - 1s 5ms/step - loss: 2709985024.0000\n",
      "Epoch 37/100\n",
      "250/250 [==============================] - 1s 4ms/step - loss: 2704010496.0000\n",
      "Epoch 38/100\n",
      "250/250 [==============================] - 1s 5ms/step - loss: 2697791232.0000\n",
      "Epoch 39/100\n",
      "250/250 [==============================] - 1s 3ms/step - loss: 2692187648.0000\n",
      "Epoch 40/100\n",
      "250/250 [==============================] - 1s 4ms/step - loss: 2686333184.0000\n",
      "Epoch 41/100\n",
      "250/250 [==============================] - 1s 3ms/step - loss: 2680757760.0000\n",
      "Epoch 42/100\n",
      "250/250 [==============================] - 1s 3ms/step - loss: 2675597056.0000\n",
      "Epoch 43/100\n",
      "250/250 [==============================] - 1s 3ms/step - loss: 2670197504.0000\n",
      "Epoch 44/100\n",
      "250/250 [==============================] - 1s 3ms/step - loss: 2665160192.0000\n",
      "Epoch 45/100\n",
      "250/250 [==============================] - 1s 3ms/step - loss: 2660232192.0000\n",
      "Epoch 46/100\n",
      "250/250 [==============================] - 1s 3ms/step - loss: 2655451904.0000\n",
      "Epoch 47/100\n",
      "250/250 [==============================] - 1s 4ms/step - loss: 2650925312.0000\n",
      "Epoch 48/100\n",
      "250/250 [==============================] - 1s 5ms/step - loss: 2646367744.0000\n",
      "Epoch 49/100\n",
      "250/250 [==============================] - 1s 3ms/step - loss: 2642232832.0000\n",
      "Epoch 50/100\n",
      "250/250 [==============================] - 1s 3ms/step - loss: 2637943040.0000\n",
      "Epoch 51/100\n",
      "250/250 [==============================] - 1s 3ms/step - loss: 2634305280.0000\n",
      "Epoch 52/100\n",
      "250/250 [==============================] - 1s 3ms/step - loss: 2630342400.0000\n",
      "Epoch 53/100\n",
      "250/250 [==============================] - 1s 5ms/step - loss: 2626815744.0000\n",
      "Epoch 54/100\n",
      "250/250 [==============================] - 1s 6ms/step - loss: 2623276032.0000\n",
      "Epoch 55/100\n",
      "250/250 [==============================] - 1s 3ms/step - loss: 2619700736.0000\n",
      "Epoch 56/100\n",
      "250/250 [==============================] - 1s 4ms/step - loss: 2616750592.0000\n",
      "Epoch 57/100\n",
      "250/250 [==============================] - 1s 4ms/step - loss: 2613561600.0000\n",
      "Epoch 58/100\n",
      "250/250 [==============================] - 1s 5ms/step - loss: 2610540800.0000\n",
      "Epoch 59/100\n",
      "250/250 [==============================] - 1s 5ms/step - loss: 2607772928.0000\n",
      "Epoch 60/100\n",
      "250/250 [==============================] - 1s 6ms/step - loss: 2605218304.0000\n",
      "Epoch 61/100\n",
      "250/250 [==============================] - 1s 6ms/step - loss: 2602577920.0000\n",
      "Epoch 62/100\n",
      "250/250 [==============================] - 2s 6ms/step - loss: 2600238336.0000\n",
      "Epoch 63/100\n",
      "250/250 [==============================] - 1s 6ms/step - loss: 2597662720.0000\n",
      "Epoch 64/100\n",
      "250/250 [==============================] - 1s 4ms/step - loss: 2595754752.0000\n",
      "Epoch 65/100\n",
      "250/250 [==============================] - 1s 4ms/step - loss: 2593662464.0000\n",
      "Epoch 66/100\n",
      "250/250 [==============================] - 1s 4ms/step - loss: 2591528704.0000\n",
      "Epoch 67/100\n",
      "250/250 [==============================] - 1s 5ms/step - loss: 2589463296.0000\n",
      "Epoch 68/100\n",
      "250/250 [==============================] - 1s 5ms/step - loss: 2587808256.0000\n",
      "Epoch 69/100\n",
      "250/250 [==============================] - 1s 5ms/step - loss: 2585984512.0000\n",
      "Epoch 70/100\n",
      "250/250 [==============================] - 1s 4ms/step - loss: 2584137728.0000\n",
      "Epoch 71/100\n",
      "250/250 [==============================] - 1s 4ms/step - loss: 2582686208.0000\n",
      "Epoch 72/100\n",
      "250/250 [==============================] - 1s 5ms/step - loss: 2580850432.0000\n",
      "Epoch 73/100\n",
      "250/250 [==============================] - 1s 4ms/step - loss: 2579802880.0000\n",
      "Epoch 74/100\n",
      "250/250 [==============================] - 1s 4ms/step - loss: 2578095360.0000\n",
      "Epoch 75/100\n",
      "250/250 [==============================] - 1s 4ms/step - loss: 2576864256.0000\n",
      "Epoch 76/100\n",
      "250/250 [==============================] - 1s 4ms/step - loss: 2575375616.0000\n",
      "Epoch 77/100\n",
      "250/250 [==============================] - 1s 4ms/step - loss: 2574432512.0000\n",
      "Epoch 78/100\n",
      "250/250 [==============================] - 1s 5ms/step - loss: 2572907520.0000\n",
      "Epoch 79/100\n",
      "250/250 [==============================] - 1s 5ms/step - loss: 2571827712.0000\n",
      "Epoch 80/100\n",
      "250/250 [==============================] - 1s 5ms/step - loss: 2571008000.0000\n",
      "Epoch 81/100\n",
      "250/250 [==============================] - 1s 5ms/step - loss: 2569620736.0000\n",
      "Epoch 82/100\n",
      "250/250 [==============================] - 1s 6ms/step - loss: 2568891904.0000\n",
      "Epoch 83/100\n",
      "250/250 [==============================] - 1s 6ms/step - loss: 2567894784.0000\n",
      "Epoch 84/100\n",
      "250/250 [==============================] - 1s 5ms/step - loss: 2566848512.0000\n",
      "Epoch 85/100\n",
      "250/250 [==============================] - 1s 5ms/step - loss: 2566202880.0000\n",
      "Epoch 86/100\n",
      "250/250 [==============================] - 1s 5ms/step - loss: 2565117440.0000\n",
      "Epoch 87/100\n",
      "250/250 [==============================] - 1s 5ms/step - loss: 2564396544.0000\n",
      "Epoch 88/100\n",
      "250/250 [==============================] - 1s 5ms/step - loss: 2563659776.0000\n",
      "Epoch 89/100\n",
      "250/250 [==============================] - 1s 5ms/step - loss: 2562779136.0000\n",
      "Epoch 90/100\n",
      "250/250 [==============================] - 1s 5ms/step - loss: 2561980416.0000\n",
      "Epoch 91/100\n",
      "250/250 [==============================] - 1s 5ms/step - loss: 2561363968.0000\n",
      "Epoch 92/100\n",
      "250/250 [==============================] - 1s 6ms/step - loss: 2560730624.0000\n",
      "Epoch 93/100\n",
      "250/250 [==============================] - 1s 5ms/step - loss: 2560095744.0000\n",
      "Epoch 94/100\n",
      "250/250 [==============================] - 1s 5ms/step - loss: 2559288320.0000\n",
      "Epoch 95/100\n",
      "250/250 [==============================] - 1s 5ms/step - loss: 2558620672.0000\n",
      "Epoch 96/100\n",
      "250/250 [==============================] - 1s 5ms/step - loss: 2558047232.0000\n",
      "Epoch 97/100\n",
      "250/250 [==============================] - 1s 6ms/step - loss: 2557526528.0000\n",
      "Epoch 98/100\n",
      "250/250 [==============================] - 1s 5ms/step - loss: 2557046016.0000\n",
      "Epoch 99/100\n",
      "250/250 [==============================] - 1s 5ms/step - loss: 2556362240.0000\n",
      "Epoch 100/100\n",
      "250/250 [==============================] - 1s 5ms/step - loss: 2555930624.0000\n"
     ]
    },
    {
     "data": {
      "text/plain": [
       "<keras.src.callbacks.History at 0x27b4d71f910>"
      ]
     },
     "execution_count": 11,
     "metadata": {},
     "output_type": "execute_result"
    }
   ],
   "source": [
    "# Build ANN model\n",
    "model = Sequential()\n",
    "model.add(Dense(64, activation='relu', input_dim=X.shape[1]))\n",
    "model.add(Dense(32, activation='relu'))\n",
    "model.add(Dense(1))  # Output layer\n",
    "\n",
    "model.compile(optimizer='adam', loss='mse')\n",
    "model.fit(X_train, y_train, epochs=100, batch_size=32)\n"
   ]
  },
  {
   "cell_type": "code",
   "execution_count": 12,
   "id": "8c31969d",
   "metadata": {},
   "outputs": [
    {
     "name": "stderr",
     "output_type": "stream",
     "text": [
      "d:\\salary prediction model\\venv\\lib\\site-packages\\keras\\src\\engine\\training.py:3000: UserWarning: You are saving your model as an HDF5 file via `model.save()`. This file format is considered legacy. We recommend using instead the native Keras format, e.g. `model.save('my_model.keras')`.\n",
      "  saving_api.save_model(\n"
     ]
    }
   ],
   "source": [
    "#  Save model\n",
    "model.save(\"salary_model.h5\")"
   ]
  }
 ],
 "metadata": {
  "kernelspec": {
   "display_name": "venv",
   "language": "python",
   "name": "python3"
  },
  "language_info": {
   "codemirror_mode": {
    "name": "ipython",
    "version": 3
   },
   "file_extension": ".py",
   "mimetype": "text/x-python",
   "name": "python",
   "nbconvert_exporter": "python",
   "pygments_lexer": "ipython3",
   "version": "3.10.11"
  }
 },
 "nbformat": 4,
 "nbformat_minor": 5
}
